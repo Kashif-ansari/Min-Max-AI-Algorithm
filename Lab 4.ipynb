{
 "cells": [
  {
   "cell_type": "code",
   "execution_count": 3,
   "id": "e8ed7d75",
   "metadata": {},
   "outputs": [
    {
     "name": "stdout",
     "output_type": "stream",
     "text": [
      "Please Enter number of indexes8\n",
      "Enter a number 12\n",
      "Enter a number 5\n",
      "Enter a number 2\n",
      "Enter a number 2\n",
      "Enter a number 3\n",
      "Enter a number 34\n",
      "Enter a number 23\n",
      "Enter a number 4\n",
      "Enter current Depth: 2\n",
      "Enter Node Index: 2\n",
      "The optimal value is:23\n"
     ]
    }
   ],
   "source": [
    "import math as m \n",
    "def minimax(curDepth,nodeIndex,maxTurn,scores,targetDepth):\n",
    "    if(curDepth == targetDepth):\n",
    "        return scores[nodeIndex]\n",
    "    if(maxTurn):\n",
    "        return max(minimax(curDepth+1,nodeIndex*2,False,scores,targetDepth),minimax(curDepth+1,nodeIndex*2+1,False,scores,targetDepth))\n",
    "    else:\n",
    "        return min(minimax(curDepth+1,nodeIndex*2,True,scores,targetDepth),minimax(curDepth+1,nodeIndex*2+1,True,scores,targetDepth))\n",
    "    \n",
    "value = int(input(\"Please Enter number of indexes\"))\n",
    "scores = []\n",
    "for i in range(value):\n",
    "    a = int(input(\"Enter a number \"))\n",
    "    scores.append(a)\n",
    "c= int(input(\"Enter current Depth: \"))\n",
    "n= int(input(\"Enter Node Index: \"))\n",
    "treeDepth = m.log(len(scores),2)\n",
    "print(\"The optimal value is:\",end=\"\")\n",
    "print(minimax(0,0,True,scores,treeDepth))"
   ]
  },
  {
   "cell_type": "code",
   "execution_count": null,
   "id": "7d629ed0",
   "metadata": {},
   "outputs": [],
   "source": []
  },
  {
   "cell_type": "code",
   "execution_count": null,
   "id": "bb692c5a",
   "metadata": {},
   "outputs": [],
   "source": []
  }
 ],
 "metadata": {
  "kernelspec": {
   "display_name": "Python 3",
   "language": "python",
   "name": "python3"
  },
  "language_info": {
   "codemirror_mode": {
    "name": "ipython",
    "version": 3
   },
   "file_extension": ".py",
   "mimetype": "text/x-python",
   "name": "python",
   "nbconvert_exporter": "python",
   "pygments_lexer": "ipython3",
   "version": "3.8.8"
  }
 },
 "nbformat": 4,
 "nbformat_minor": 5
}
